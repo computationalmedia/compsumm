{
 "cells": [
  {
   "cell_type": "code",
   "execution_count": 1,
   "metadata": {},
   "outputs": [
    {
     "name": "stdout",
     "output_type": "stream",
     "text": [
      "Populating the interactive namespace from numpy and matplotlib\n"
     ]
    }
   ],
   "source": [
    "import numpy as np\n",
    "%pylab inline\n",
    "%load_ext autoreload\n",
    "%autoreload 2\n",
    "%precision 3\n",
    "from news import NewsH5"
   ]
  },
  {
   "cell_type": "markdown",
   "metadata": {},
   "source": [
    "## Loading the dataset\n",
    "The dataset is in `HDF5` format as explained in [`readme.md`](/README.MD). We can load dataset as:"
   ]
  },
  {
   "cell_type": "code",
   "execution_count": 4,
   "metadata": {},
   "outputs": [],
   "source": [
    "beefban = NewsH5('beefban')"
   ]
  },
  {
   "cell_type": "code",
   "execution_count": 5,
   "metadata": {},
   "outputs": [
    {
     "data": {
      "text/plain": [
       "array(['City joins national campaign against lynch mob attacks',\n",
       "       \"India's Got Beef With Beef: What You Need To Know About The Country's Controversial 'Beef Ban'\",\n",
       "       'With China Beef Deal, US Re-Enters Market It Once Dominated', ...,\n",
       "       'KID.V M O N E Y',\n",
       "       \"How Hindus killed a Muslim over beef and murdered India's secularism\",\n",
       "       \"I made a promise to Javed Khan. But Congress alone can't keep that promise\"],\n",
       "      dtype='<U200')"
      ]
     },
     "execution_count": 5,
     "metadata": {},
     "output_type": "execute_result"
    }
   ],
   "source": [
    "##titles\n",
    "beefban.title"
   ]
  },
  {
   "cell_type": "code",
   "execution_count": 8,
   "metadata": {},
   "outputs": [
    {
     "data": {
      "text/plain": [
       "(1543, 300)"
      ]
     },
     "execution_count": 8,
     "metadata": {},
     "output_type": "execute_result"
    }
   ],
   "source": [
    "## shape of data\n",
    "beefban.X.shape\n",
    "## we have 1543 articles and each is represented by 300 dim vector (averaged GLOVE)"
   ]
  },
  {
   "cell_type": "markdown",
   "metadata": {},
   "source": [
    "### splits\n",
    "there are 51 precomputed splits (train-test-val: 70-20-10)"
   ]
  },
  {
   "cell_type": "code",
   "execution_count": 10,
   "metadata": {},
   "outputs": [
    {
     "data": {
      "text/plain": [
       "((51, 1079), (51, 309), (51, 155))"
      ]
     },
     "execution_count": 10,
     "metadata": {},
     "output_type": "execute_result"
    }
   ],
   "source": [
    "beefban.train_idxs.shape,beefban.test_idxs.shape,beefban.val_idxs.shape"
   ]
  },
  {
   "cell_type": "markdown",
   "metadata": {},
   "source": [
    "lets use split 0 for demonstration"
   ]
  },
  {
   "cell_type": "code",
   "execution_count": 11,
   "metadata": {},
   "outputs": [
    {
     "data": {
      "text/plain": [
       "((1234, 300), (309, 300), (1234,), (309,))"
      ]
     },
     "execution_count": 11,
     "metadata": {},
     "output_type": "execute_result"
    }
   ],
   "source": [
    "split = 0\n",
    "idxs_tr = np.array(beefban.val_idxs[split].tolist() + beefban.train_idxs[split].tolist())\n",
    "idxs_te = beefban.test_idxs[split]\n",
    "X_tr, y_tr = beefban.X[idxs_tr], beefban.y[idxs_tr]\n",
    "X_te, y_te = beefban.X[idxs_te], beefban.y[idxs_te]\n",
    "X_tr.shape, X_te.shape, y_tr.shape, y_te.shape"
   ]
  },
  {
   "cell_type": "markdown",
   "metadata": {},
   "source": [
    "## Using the summariser models"
   ]
  },
  {
   "cell_type": "code",
   "execution_count": 9,
   "metadata": {},
   "outputs": [],
   "source": [
    "from models import *"
   ]
  },
  {
   "cell_type": "code",
   "execution_count": 16,
   "metadata": {},
   "outputs": [
    {
     "name": "stdout",
     "output_type": "stream",
     "text": [
      "fitting KMeansSumm(gamma=0.01, gamma2=0.1, C=10.0, lambda=0.1, seed=0, m=4)\n",
      "fitted KMeans: seed = 0,  Counter({0: 4, 1: 4})\n"
     ]
    },
    {
     "data": {
      "text/plain": [
       "array(['No need to ban beef imports from Brazil - Samuda',\n",
       "       'Athawale supports right to eat beef, warns cow vigilantes',\n",
       "       'Beef ban in Goa predates BJP rule: Amit Shah',\n",
       "       'Maha: Maharashtra beef ban law to be tested in light of privacy verdict: SC',\n",
       "       'China lifts ban on UK beef in move worth £250m in first five years -',\n",
       "       'No ban on cow slaughter, BJP says in poll-bound Meghalaya',\n",
       "       'Yogi Adityanath: If Karnataka CM is Hindu, let him ban beef',\n",
       "       'British beef back on menu after China lifts BSE ban'],\n",
       "      dtype='<U200')"
      ]
     },
     "execution_count": 16,
     "metadata": {},
     "output_type": "execute_result"
    }
   ],
   "source": [
    "## Kmeans summariser\n",
    "m = 4\n",
    "kmeans = get_model(\"kmeans\", mk = m, verbose = True)\n",
    "kmeans.fit(X_tr, y_tr)\n",
    "beefban.title[idxs_tr[kmeans.idxs]]"
   ]
  },
  {
   "cell_type": "code",
   "execution_count": 19,
   "metadata": {},
   "outputs": [
    {
     "name": "stdout",
     "output_type": "stream",
     "text": [
      "fitting MMDGradSumm(gamma=0.1, gamma2=0.1, C=10.0, lambda=0.1, seed=0, m=4) data\n",
      "data 0.1 0.1 10.0\n",
      "fitted MMD-Grad- data Counter({0: 4, 1: 4}) [898, 494, 944, 659, 1083, 187, 42, 212]\n"
     ]
    },
    {
     "data": {
      "text/plain": [
       "array(['Operation Gautankvad: Terrifying truth about cow smugglers : India First: India Today',\n",
       "       'Lynchings, beef-ban not to figure in talks with Shah: Goa BJP',\n",
       "       'Supreme Court observes Right to Privacy may affect beef ban in Maharashtra',\n",
       "       'China lifts ban on imported Australian beef',\n",
       "       'China lifts ban on exports of beef from UK',\n",
       "       'Yogi Adityanath: If Karnataka CM is Hindu, let him ban beef',\n",
       "       'Where in India can you get beef?',\n",
       "       'Read what VD Savarkar wrote: Care for cows, do not worship them'],\n",
       "      dtype='<U200')"
      ]
     },
     "execution_count": 19,
     "metadata": {},
     "output_type": "execute_result"
    }
   ],
   "source": [
    "## MMD-diff-grad summariser\n",
    "m = 4\n",
    "mmd_diff_grad = get_model(\"mmd-diff-grad\", mk = m, gamma = 0.1, gamma2=0.1, lambdaa=0.1, verbose = True)\n",
    "mmd_diff_grad.fit(X_tr, y_tr)\n",
    "beefban.title[idxs_tr[mmd_diff_grad.idxs]]"
   ]
  },
  {
   "cell_type": "code",
   "execution_count": 20,
   "metadata": {},
   "outputs": [
    {
     "name": "stdout",
     "output_type": "stream",
     "text": [
      "fitting MMDGreedySumm(gamma=0.1, gamma2=0.1, C=10.0, lambda=0.1, seed=0, m=4)\n",
      "Kxs 0.1 0.1 10.0\n",
      "fitted MMD-Greedy- Kxs Counter({0: 4, 1: 4})\n"
     ]
    },
    {
     "data": {
      "text/plain": [
       "array(['Cow vigilantism: After beef ban, meat-seller takes to vending vegetables',\n",
       "       \"India's top court suspends ban on trade in cattle for slaughter\",\n",
       "       \"The liberals flaunting 'Not In My Name' placards got it wrong\",\n",
       "       \"US ban Brazil's beef imports until food safety addressed\",\n",
       "       '£250m boost for British farmers as China lifts decades-old BSE ban',\n",
       "       'BJP to stay away from imposing beef ban in Northeast, in other parts it might',\n",
       "       'Three years after beef ban, slaughter of buffaloes at all-time high in Maharashtra - Nagpur Today : Nagpur News',\n",
       "       'Jack White vs. the Black Keys: A Beef History'], dtype='<U200')"
      ]
     },
     "execution_count": 20,
     "metadata": {},
     "output_type": "execute_result"
    }
   ],
   "source": [
    "## MMD-div-greedy summariser\n",
    "m = 4\n",
    "mmd_diff_grad = get_model(\"mmd-div-greedy\", mk = m, gamma = 0.1, gamma2=0.1, lambdaa=0.1, verbose = True)\n",
    "mmd_diff_grad.fit(X_tr, y_tr)\n",
    "beefban.title[idxs_tr[mmd_diff_grad.idxs]]"
   ]
  },
  {
   "cell_type": "markdown",
   "metadata": {},
   "source": [
    "## Tuning hyperparameters\n",
    "\n",
    "Let's see how we can tune hyperparameters for `mmd-diff-greedy`."
   ]
  },
  {
   "cell_type": "code",
   "execution_count": 21,
   "metadata": {},
   "outputs": [],
   "source": [
    "from utils import bacc\n",
    "Gammas = [0.05, 0.1, 0.2, 0.4, 0.8] ## gamma of rbf kernel\n",
    "lambdas = [0.01, 0.03, 0.1, 0.3] ## lambda term in model\n",
    "Cs = [0.01, 0.1, 1.0, 10.0] ## SVM C term\n",
    "params = {\"C\": Cs, \"gamma\": Gammas, \"lambdaa\": lambdas}\n",
    "scorer = make_scorer(bacc)"
   ]
  },
  {
   "cell_type": "code",
   "execution_count": 29,
   "metadata": {},
   "outputs": [
    {
     "name": "stdout",
     "output_type": "stream",
     "text": [
      "Fitting 3 folds for each of 80 candidates, totalling 240 fits\n"
     ]
    },
    {
     "name": "stderr",
     "output_type": "stream",
     "text": [
      "[Parallel(n_jobs=4)]: Using backend LokyBackend with 4 concurrent workers.\n"
     ]
    },
    {
     "name": "stdout",
     "output_type": "stream",
     "text": [
      "data 0.05 0.01 0.01\n"
     ]
    },
    {
     "name": "stderr",
     "output_type": "stream",
     "text": [
      "[Parallel(n_jobs=4)]: Done 240 out of 240 | elapsed:    1.7s finished\n"
     ]
    }
   ],
   "source": [
    "clf = GridSearchCV(get_model(\"mmd-diff-greedy\", mk = m, verbose = True), params, \n",
    "                   cv = 3, n_jobs = 4, verbose = 1, scoring = scorer, return_train_score = False, error_score = 0.0)\n",
    "clf.fit(X_tr, y_tr)\n",
    "model = clf.best_estimator_"
   ]
  },
  {
   "cell_type": "code",
   "execution_count": 30,
   "metadata": {},
   "outputs": [
    {
     "data": {
      "text/plain": [
       "0.6044066227889757"
      ]
     },
     "execution_count": 30,
     "metadata": {},
     "output_type": "execute_result"
    }
   ],
   "source": [
    "## scoring on test-set\n",
    "model.score(X_te, y_te)"
   ]
  },
  {
   "cell_type": "code",
   "execution_count": 31,
   "metadata": {},
   "outputs": [
    {
     "data": {
      "text/plain": [
       "array(['Cow vigilantism: After beef ban, meat-seller takes to vending vegetables',\n",
       "       \"India's top court suspends ban on trade in cattle for slaughter\",\n",
       "       'After 14 years, U.S. beef hits Chinese market',\n",
       "       'Maha beef ban law to be tested after privacy ruling',\n",
       "       '£250m boost for British farmers as China lifts decades-old BSE ban',\n",
       "       'BJP to stay away from imposing beef ban in Northeast, in other parts it might',\n",
       "       'Three years after beef ban, slaughter of buffaloes at all-time high in Maharashtra - Nagpur Today : Nagpur News',\n",
       "       'British beef back on menu after China lifts BSE ban'],\n",
       "      dtype='<U200')"
      ]
     },
     "execution_count": 31,
     "metadata": {},
     "output_type": "execute_result"
    }
   ],
   "source": [
    "protos = idxs_tr[model.idxs]\n",
    "beefban.title[protos]"
   ]
  },
  {
   "cell_type": "code",
   "execution_count": null,
   "metadata": {},
   "outputs": [],
   "source": []
  }
 ],
 "metadata": {
  "kernelspec": {
   "display_name": "Python 3",
   "language": "python",
   "name": "python3"
  },
  "language_info": {
   "codemirror_mode": {
    "name": "ipython",
    "version": 3
   },
   "file_extension": ".py",
   "mimetype": "text/x-python",
   "name": "python",
   "nbconvert_exporter": "python",
   "pygments_lexer": "ipython3",
   "version": "3.7.2"
  }
 },
 "nbformat": 4,
 "nbformat_minor": 2
}
